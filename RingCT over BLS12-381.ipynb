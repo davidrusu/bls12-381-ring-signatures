{
 "cells": [
  {
   "cell_type": "code",
   "execution_count": 1,
   "id": "0cfbe967",
   "metadata": {},
   "outputs": [],
   "source": [
    "from bls_py import (bls, ec)\n",
    "from random import randint"
   ]
  },
  {
   "cell_type": "markdown",
   "id": "562a6484",
   "metadata": {},
   "source": [
    "We will work in the G1 (Fq) group since public keys are in the G1 group."
   ]
  },
  {
   "cell_type": "code",
   "execution_count": 2,
   "id": "c780be27",
   "metadata": {},
   "outputs": [],
   "source": [
    "G = ec.generator_Fq() # G1\n",
    "l = ec.default_ec.n   # the G1 group order"
   ]
  },
  {
   "cell_type": "code",
   "execution_count": 3,
   "id": "801f585d",
   "metadata": {},
   "outputs": [],
   "source": [
    "def Hp(point: bls.AffinePoint) -> bls.AffinePoint:\n",
    "    \"\"\"Hash a point to point\"\"\"\n",
    "    return ec.hash_to_point_Fq(point.serialize())\n",
    "\n",
    "def Hs(*xs):\n",
    "    \"\"\"Hash to field, result will be an integer in 0..l\"\"\"\n",
    "    h = b''\n",
    "    for x in xs:\n",
    "        if type(x) == str:\n",
    "            b = bytes(x, encoding=\"utf-8\")\n",
    "        elif type(x) == bls.AffinePoint:\n",
    "            b = x.serialize()\n",
    "        else:\n",
    "            b = bytes(x)\n",
    "\n",
    "        h = ec.hash256(h + b)\n",
    "\n",
    "    return int.from_bytes(h, \"big\") % l"
   ]
  },
  {
   "cell_type": "code",
   "execution_count": 4,
   "id": "7e1f6166",
   "metadata": {},
   "outputs": [],
   "source": [
    "# Number of signers in the ring\n",
    "N = 21\n",
    "\n",
    "# The message we are signing\n",
    "m = \"important message\"\n",
    "\n",
    "xs = [bls.PrivateKey.from_seed(str(i)).value for i in range(N)]\n",
    "P = [x * G for x in xs]\n",
    "\n",
    "# j is the index of the secret signer in the ring\n",
    "j = 0\n",
    "x = xs[0]"
   ]
  },
  {
   "cell_type": "code",
   "execution_count": null,
   "id": "8ac15472",
   "metadata": {},
   "outputs": [],
   "source": []
  },
  {
   "cell_type": "code",
   "execution_count": 5,
   "id": "e8294da5",
   "metadata": {},
   "outputs": [],
   "source": [
    "# Generate the random blinding values\n",
    "alpha = randint(0, l)\n",
    "s = [randint(0, l) if i != j else None for i in range(N)]"
   ]
  },
  {
   "cell_type": "code",
   "execution_count": 6,
   "id": "90e3ebcd",
   "metadata": {},
   "outputs": [],
   "source": [
    "# Key Image\n",
    "I = x * Hp(P[j])\n",
    "\n",
    "# Prepare for ring signing\n",
    "L = [None] * N\n",
    "R = [None] * N\n",
    "c = [None] * N\n",
    "\n",
    "# Start at index j, then proceed around the ring.\n",
    "# Each step computes c[i+1]\n",
    "L[j] = alpha * G\n",
    "R[j] = alpha * Hp(P[j])\n",
    "c[(j+1) % N] = Hs(m, L[j], R[j])\n",
    "\n",
    "for offset in range(1, N):\n",
    "    i = (j + offset) % N\n",
    "    L[i] = s[i] * G + c[i] * P[i]\n",
    "    R[i] = s[i] * Hp(P[i]) + c[i] * I\n",
    "    c[(i + 1) % N] = Hs(m, L[i], R[i])\n",
    "\n",
    "# s[j] is chosen so that it completes the ring without exposing x\n",
    "s[j] = (alpha - c[j] * x) % l"
   ]
  },
  {
   "cell_type": "markdown",
   "id": "478db511",
   "metadata": {},
   "source": [
    "$s_j = \\alpha - c_j x  \\text{ mod }  l$\n",
    "\n",
    "rearranging for alpha gives:\n",
    "\n",
    "(1) $\\alpha = s_j + c_j x  \\text{ mod }  l$\n",
    "\n",
    "Now consider the equation for L[j], R[j] used above:\n",
    "\n",
    "$L_j = \\alpha G$\n",
    "\n",
    "$R_j = \\alpha H_p(P_j)$\n",
    "\n",
    "Substituing $\\alpha$ with (1):\n",
    "\n",
    "$L_j = \\alpha G = (s_j + c_j x) G = s_j G + c_j x G = s_j G + c_j P_j$\n",
    "\n",
    "\n",
    "$R_j = \\alpha H_p(P_j) = s_j H_p(P_j) + c_j x H_p(P_j) =  s_j H_p(P_j) + c_j I$\n",
    "\n",
    "The result is $s_j$ and $c_j$ can be exposed without revealing $x$"
   ]
  },
  {
   "cell_type": "code",
   "execution_count": 7,
   "id": "94b97442",
   "metadata": {},
   "outputs": [],
   "source": [
    "sig = (I, c[0], s)"
   ]
  },
  {
   "cell_type": "code",
   "execution_count": 8,
   "id": "357ff22d",
   "metadata": {},
   "outputs": [],
   "source": [
    "# Sanity check on invariants\n",
    "assert alpha == (s[j] + c[j] * x) % l\n",
    "assert L[j] == alpha * G\n",
    "assert alpha * G == s[j] * G + c[j] * x * G\n",
    "assert alpha * G == s[j] * G + (c[j] * x % l) * G\n",
    "assert c[j] * x  * G == c[j] * P[j]\n",
    "assert alpha * G == s[j] * G + c[j] * P[j]"
   ]
  },
  {
   "cell_type": "code",
   "execution_count": 9,
   "id": "bc6e77e0",
   "metadata": {},
   "outputs": [],
   "source": [
    "# Now to verify\n",
    "def verify(I, c0, s, P, m):\n",
    "    N = len(P)\n",
    "    \n",
    "    Lp = [None] * N\n",
    "    Rp = [None] * N\n",
    "    cp = [None] * N\n",
    "    cp[0] = c0\n",
    "\n",
    "    for i in range(N):\n",
    "        Lp[i] = s[i] * G + cp[i] * P[i]\n",
    "        Rp[i] = s[i] * Hp(P[i]) + cp[i] * I\n",
    "        cp[(i + 1) % N] = Hs(m, Lp[i], Rp[i])\n",
    "        \n",
    "    assert cp[0] == c0\n",
    "    assert Hs(m, Lp[-1], Rp[-1]) == cp[0]\n",
    "    print(\"Everything checks out\")"
   ]
  },
  {
   "cell_type": "code",
   "execution_count": 10,
   "id": "01c825bf",
   "metadata": {},
   "outputs": [
    {
     "name": "stdout",
     "output_type": "stream",
     "text": [
      "Everything checks out\n"
     ]
    }
   ],
   "source": [
    "verify(*sig, P, m)"
   ]
  }
 ],
 "metadata": {
  "kernelspec": {
   "display_name": "Python 3 (ipykernel)",
   "language": "python",
   "name": "python3"
  },
  "language_info": {
   "codemirror_mode": {
    "name": "ipython",
    "version": 3
   },
   "file_extension": ".py",
   "mimetype": "text/x-python",
   "name": "python",
   "nbconvert_exporter": "python",
   "pygments_lexer": "ipython3",
   "version": "3.8.11"
  }
 },
 "nbformat": 4,
 "nbformat_minor": 5
}
