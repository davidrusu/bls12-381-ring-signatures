{
 "cells": [
  {
   "cell_type": "code",
   "execution_count": 56,
   "id": "0cfbe967",
   "metadata": {},
   "outputs": [],
   "source": [
    "from bls_py import (aggregation_info\n",
    "    ,bls\n",
    "    ,bls12381\n",
    "    ,ec\n",
    "    ,fields\n",
    "    ,fields_t\n",
    "    ,fields_t_c\n",
    "   , keys\n",
    "   , pairing\n",
    "   , signature\n",
    "    ,tdata\n",
    "    ,tests\n",
    "    ,threshold\n",
    "    ,util)\n",
    "\n",
    "from random import randint"
   ]
  },
  {
   "cell_type": "markdown",
   "id": "562a6484",
   "metadata": {},
   "source": [
    "We will work in the G1 (Fq) group since public keys are in the G1 group."
   ]
  },
  {
   "cell_type": "code",
   "execution_count": 57,
   "id": "c780be27",
   "metadata": {},
   "outputs": [],
   "source": [
    "G = ec.generator_Fq()\n",
    "l = ec.default_ec.n"
   ]
  },
  {
   "cell_type": "code",
   "execution_count": 58,
   "id": "801f585d",
   "metadata": {},
   "outputs": [],
   "source": [
    "def Hp(point: bls.AffinePoint) -> bls.AffinePoint:\n",
    "    return ec.hash_to_point_Fq(point.serialize())\n",
    "\n",
    "def Hs(*xs):\n",
    "    h = b''\n",
    "    for x in xs:\n",
    "        if type(x) == str:\n",
    "            b = bytes(x, encoding=\"utf-8\")\n",
    "        elif type(x) == bls.AffinePoint:\n",
    "            b = x.serialize()\n",
    "        else:\n",
    "            b = bytes(x)\n",
    "        h = ec.hash256(h + b)\n",
    "    return int.from_bytes(h, \"big\") % l"
   ]
  },
  {
   "cell_type": "code",
   "execution_count": 81,
   "id": "7e1f6166",
   "metadata": {},
   "outputs": [],
   "source": [
    "N = 21\n",
    "m = \"important message\"\n",
    "\n",
    "xs = [bls.PrivateKey.from_seed(str(i)).value for i in range(N)]\n",
    "P = [x * G for x in xs]\n",
    "\n",
    "# j is the index of the secret signer\n",
    "j = 0\n",
    "x = xs[0]"
   ]
  },
  {
   "cell_type": "code",
   "execution_count": 82,
   "id": "8ac15472",
   "metadata": {},
   "outputs": [],
   "source": [
    "# Key Image\n",
    "I = x * Hp(P[j])"
   ]
  },
  {
   "cell_type": "code",
   "execution_count": 83,
   "id": "0ba9ed31",
   "metadata": {},
   "outputs": [],
   "source": [
    "alpha = randint(0, l)\n",
    "s = [randint(0, l) if i != j else None for i in range(N)]"
   ]
  },
  {
   "cell_type": "code",
   "execution_count": 84,
   "id": "0995a301",
   "metadata": {},
   "outputs": [],
   "source": [
    "L = [None] * N\n",
    "R = [None] * N\n",
    "c = [None] * N\n",
    "\n",
    "L[j] = alpha * G\n",
    "R[j] = alpha * Hp(P[j])\n",
    "c[(j+1) % N] = Hs(m, L[j], R[j])\n",
    "\n",
    "for i in range(1, N):\n",
    "    idx = (j + i) % N\n",
    "    L[idx] = s[idx] * G + c[idx] * P[idx]\n",
    "    R[idx] = s[idx] * Hp(P[idx]) + c[idx] * I\n",
    "    c[(idx + 1) % N] = Hs(m, L[idx], R[idx])"
   ]
  },
  {
   "cell_type": "code",
   "execution_count": 85,
   "id": "8bb8582c",
   "metadata": {},
   "outputs": [],
   "source": [
    "s[j] = (alpha - (c[j] * x)) % l"
   ]
  },
  {
   "cell_type": "code",
   "execution_count": 86,
   "id": "94b97442",
   "metadata": {},
   "outputs": [],
   "source": [
    "sig = (I, c[0], s)"
   ]
  },
  {
   "cell_type": "code",
   "execution_count": 87,
   "id": "41c87a53",
   "metadata": {},
   "outputs": [
    {
     "data": {
      "text/plain": [
       "True"
      ]
     },
     "execution_count": 87,
     "metadata": {},
     "output_type": "execute_result"
    }
   ],
   "source": [
    "alpha == (s[j] + c[j] * x) % l"
   ]
  },
  {
   "cell_type": "code",
   "execution_count": 88,
   "id": "24888791",
   "metadata": {},
   "outputs": [
    {
     "data": {
      "text/plain": [
       "True"
      ]
     },
     "execution_count": 88,
     "metadata": {},
     "output_type": "execute_result"
    }
   ],
   "source": [
    "L[j] == alpha * G"
   ]
  },
  {
   "cell_type": "code",
   "execution_count": 89,
   "id": "2a4b0dc2",
   "metadata": {},
   "outputs": [
    {
     "data": {
      "text/plain": [
       "True"
      ]
     },
     "execution_count": 89,
     "metadata": {},
     "output_type": "execute_result"
    }
   ],
   "source": [
    "alpha * G == s[j] * G + c[j] * x * G"
   ]
  },
  {
   "cell_type": "code",
   "execution_count": 90,
   "id": "23945ff6",
   "metadata": {},
   "outputs": [
    {
     "data": {
      "text/plain": [
       "True"
      ]
     },
     "execution_count": 90,
     "metadata": {},
     "output_type": "execute_result"
    }
   ],
   "source": [
    "alpha * G == s[j] * G + (c[j] * x % l) * G"
   ]
  },
  {
   "cell_type": "code",
   "execution_count": 91,
   "id": "55a232f8",
   "metadata": {},
   "outputs": [
    {
     "data": {
      "text/plain": [
       "True"
      ]
     },
     "execution_count": 91,
     "metadata": {},
     "output_type": "execute_result"
    }
   ],
   "source": [
    "c[j] * x  * G == c[j] * P[j]"
   ]
  },
  {
   "cell_type": "code",
   "execution_count": 92,
   "id": "b2af8097",
   "metadata": {},
   "outputs": [
    {
     "data": {
      "text/plain": [
       "True"
      ]
     },
     "execution_count": 92,
     "metadata": {},
     "output_type": "execute_result"
    }
   ],
   "source": [
    "alpha * G == s[j] * G + c[j] * P[j]"
   ]
  },
  {
   "cell_type": "code",
   "execution_count": 93,
   "id": "46724f88",
   "metadata": {},
   "outputs": [
    {
     "data": {
      "text/plain": [
       "52435875175126190479447740508185965837690552500527637822603658699938581184513"
      ]
     },
     "execution_count": 93,
     "metadata": {},
     "output_type": "execute_result"
    }
   ],
   "source": [
    "ec.default_ec.n"
   ]
  },
  {
   "cell_type": "code",
   "execution_count": 94,
   "id": "fe71c447",
   "metadata": {},
   "outputs": [
    {
     "data": {
      "text/plain": [
       "10911266535558011642090291323489759204648573621235556134517723471565392816376"
      ]
     },
     "execution_count": 94,
     "metadata": {},
     "output_type": "execute_result"
    }
   ],
   "source": [
    "s[j]"
   ]
  },
  {
   "cell_type": "code",
   "execution_count": 95,
   "id": "bc6e77e0",
   "metadata": {},
   "outputs": [],
   "source": [
    "# Now to verify\n",
    "\n",
    "def verify(I, c0, s, P, m):\n",
    "    N = len(P)\n",
    "    \n",
    "    Lp = [None] * N\n",
    "    Rp = [None] * N\n",
    "    cp = [None] * N\n",
    "    cp[0] = c0\n",
    "\n",
    "    for i in range(N):\n",
    "        Lp[i] = s[i] * G + cp[i] * P[i]\n",
    "        Rp[i] = s[i] * Hp(P[i]) + cp[i] * I\n",
    "        cp[(i + 1) % N] = Hs(m, Lp[i], Rp[i])\n",
    "        \n",
    "    assert cp[0] == c0\n",
    "    assert Hs(m, Lp[-1], Rp[-1]) == cp[0]\n",
    "    print(\"Everything checks out\")"
   ]
  },
  {
   "cell_type": "code",
   "execution_count": 96,
   "id": "01c825bf",
   "metadata": {},
   "outputs": [
    {
     "name": "stdout",
     "output_type": "stream",
     "text": [
      "Everything checks out\n"
     ]
    }
   ],
   "source": [
    "verify(*sig, P, m)"
   ]
  },
  {
   "cell_type": "code",
   "execution_count": 55,
   "id": "b10003c9",
   "metadata": {},
   "outputs": [
    {
     "data": {
      "text/plain": [
       "[4743997262915561299125662112332479794546814593664826494615037867389839415761,\n",
       " 48593580839996011308605559297217465500240338083195273690359642139437199354217,\n",
       " 6112860136447671528098358327700418968737786762848384794127819209703304836358]"
      ]
     },
     "execution_count": 55,
     "metadata": {},
     "output_type": "execute_result"
    }
   ],
   "source": [
    "c"
   ]
  },
  {
   "cell_type": "code",
   "execution_count": null,
   "id": "b52fa7a2",
   "metadata": {},
   "outputs": [],
   "source": []
  },
  {
   "cell_type": "code",
   "execution_count": null,
   "id": "61372e27",
   "metadata": {},
   "outputs": [],
   "source": []
  },
  {
   "cell_type": "code",
   "execution_count": null,
   "id": "a18818e7",
   "metadata": {},
   "outputs": [],
   "source": []
  }
 ],
 "metadata": {
  "kernelspec": {
   "display_name": "Python 3 (ipykernel)",
   "language": "python",
   "name": "python3"
  },
  "language_info": {
   "codemirror_mode": {
    "name": "ipython",
    "version": 3
   },
   "file_extension": ".py",
   "mimetype": "text/x-python",
   "name": "python",
   "nbconvert_exporter": "python",
   "pygments_lexer": "ipython3",
   "version": "3.8.11"
  }
 },
 "nbformat": 4,
 "nbformat_minor": 5
}
