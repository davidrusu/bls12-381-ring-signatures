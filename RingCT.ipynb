{
 "cells": [
  {
   "cell_type": "code",
   "execution_count": 1,
   "id": "0cfbe967",
   "metadata": {},
   "outputs": [],
   "source": [
    "from bls_py import bls, ec\n",
    "from random import randint, seed"
   ]
  },
  {
   "cell_type": "markdown",
   "id": "562a6484",
   "metadata": {},
   "source": [
    "We will work in the G1 (Fq) group since public keys are in the G1 group."
   ]
  },
  {
   "cell_type": "code",
   "execution_count": 2,
   "id": "c780be27",
   "metadata": {},
   "outputs": [],
   "source": [
    "G = ec.generator_Fq() # G1\n",
    "l = ec.default_ec.n   # the G1 group order\n",
    "\n",
    "# Pederson Commitment prep:\n",
    "\n",
    "gamma = randint(1, l) # It is assumed that gamma is unknown to *anyone* (otherwise our commitments can be tampered with)\n",
    "H = gamma * G # commit(a, x) = xG + aH"
   ]
  },
  {
   "cell_type": "code",
   "execution_count": 3,
   "id": "801f585d",
   "metadata": {},
   "outputs": [],
   "source": [
    "def Hp(point: bls.AffinePoint) -> bls.AffinePoint:\n",
    "    \"\"\"Hash a point to point\"\"\"\n",
    "    return ec.hash_to_point_Fq(point.x.serialize() + point.y.serialize())\n",
    "\n",
    "def Hs(*xs) -> int:\n",
    "    \"\"\"Hash to field, result will be an integer in 0..l\"\"\"\n",
    "    h = b''\n",
    "    for x in xs:\n",
    "        if type(x) == str:\n",
    "            b = bytes(x, encoding=\"utf-8\")\n",
    "        elif type(x) == bls.AffinePoint:\n",
    "            b = x.serialize()\n",
    "        elif type(x) == int:\n",
    "            b = x.to_bytes(256, \"big\")\n",
    "        elif type(x) in [list, tuple]:\n",
    "            b = b''\n",
    "            for xi in x:\n",
    "                b += Hs(xi).to_bytes(256, \"big\")\n",
    "        else:\n",
    "            raise Exception(\"BAD VALUE\", x)\n",
    "\n",
    "        h = ec.hash256(h + b)\n",
    "\n",
    "    return int.from_bytes(h, \"big\") % l\n",
    "    \n",
    "def rand_Z():\n",
    "    return randint(1, l)\n",
    "\n",
    "def rand_P():\n",
    "    return rand_Z() * G\n",
    "    \n",
    "def commit(value, mask):\n",
    "    \"\"\"Pederson Commitment to `value` masked by `mask`\"\"\"\n",
    "    return mask * G + value * H"
   ]
  },
  {
   "cell_type": "code",
   "execution_count": 12,
   "id": "7d8d7dbc",
   "metadata": {},
   "outputs": [
    {
     "name": "stdout",
     "output_type": "stream",
     "text": [
      "pi = 3\n"
     ]
    }
   ],
   "source": [
    "seed(2)\n",
    "\n",
    "N = 10 # ring size\n",
    "M = 3 # number of inputs\n",
    "\n",
    "msg = \"hello\" # in practice this is the hash of all transaction data besides the ring signature\n",
    "\n",
    "# input amounts\n",
    "in_a = [randint(1, 4) for _ in range(M)]\n",
    "in_blinding = [rand_Z() for _ in in_a]\n",
    "\n",
    "# output amounts\n",
    "out_a = [sum(in_a)] # TODO: deal with multiple outputs\n",
    "out_P = [rand_Z() * G for _ in out_a]\n",
    "\n",
    "assert sum(in_a) - sum(out_a) == 0\n",
    "\n",
    "# Real Keys\n",
    "x_pi = [rand_Z() for _ in range(M)]\n",
    "P_pi = [x * G for x in x_pi]\n",
    "\n",
    "# Decoy Keys\n",
    "P = [[rand_Z() * G for _ in range(M)] for _ in range(N - 1)]\n",
    "\n",
    "# Commitments from each decoy input\n",
    "C = [[commit(rand_Z(), rand_Z()) for _ in range(M)] for _ in range(N - 1)]\n",
    "\n",
    "pi = randint(0, N-1)\n",
    "print(\"pi =\", pi)\n",
    "\n",
    "P.insert(pi, P_pi)\n",
    "C.insert(pi, [commit(in_a[m], in_blinding[m]) for m in range(M)])"
   ]
  },
  {
   "cell_type": "code",
   "execution_count": 19,
   "id": "792fef1c",
   "metadata": {},
   "outputs": [],
   "source": [
    "# Used for generating pseudo commitments to zero\n",
    "pseudo_blinding = [rand_Z() for _ in range(M)]\n",
    "pseudo_C = [commit(in_a[m], pseudo_blinding[m]) for m in range(M)]\n",
    "\n",
    "out_blinding = [rand_Z() for _ in range(len(out_a) - 1)]\n",
    "out_blinding.append((sum(pseudo_blinding) - sum(out_blinding)) % l)\n",
    "out_C = [commit(out_a[i], out_blinding[i]) for i in range(len(out_a))]\n",
    "\n",
    "assert sum(pseudo_C) == sum(out_C)\n",
    "\n",
    "\n",
    "hidden_C = [[C[n][m] - pseudo_C[m] for m in range(M)] for n in range(N)]\n",
    "\n",
    "# prepare Rings for each input\n",
    "R = [[(P[n][m], hidden_C[n][m]) for n in range(N)] for m in range(M)]"
   ]
  },
  {
   "cell_type": "markdown",
   "id": "4372648b",
   "metadata": {},
   "source": [
    "### Perform MLSAG on $R$\n",
    "\n",
    "Since we don't want Key Images for the hidden_C part of R, we have to modify MLSAG slightly when dealing with the second column of R to avoid key images."
   ]
  },
  {
   "cell_type": "code",
   "execution_count": 23,
   "id": "e056df80",
   "metadata": {},
   "outputs": [],
   "source": [
    "# Key Images\n",
    "I = [x_pi[m] * Hp(P[pi][m]) for m in range(M)]\n",
    "c = [None] * M\n",
    "r = [None] * M\n",
    "for m in range(M):\n",
    "    x = [x_pi[m], (in_blinding[m] - pseudo_blinding[m] ) % l]\n",
    "    alpha = [rand_Z(), rand_Z()]\n",
    "    r[m] = [[rand_Z(), rand_Z()] for n in range(N)]\n",
    "    r[m][pi] = [None, None]\n",
    "\n",
    "    c[m] = [None] * N\n",
    "    c[m][(pi + 1) % N] = Hs(\n",
    "        msg,\n",
    "        *[alpha[0] * G, alpha[1] * G],\n",
    "        # We exclude the `r[n][1] * ..` term to avoid dependence on the pseudo commitment key image\n",
    "        *[alpha[0] * Hp(R[m][pi][0])]\n",
    "    )\n",
    "\n",
    "    for offset in range(1, N):\n",
    "        n = (pi + offset) % N\n",
    "        c[m][(n + 1) % N] = Hs(\n",
    "            msg,\n",
    "            *[r[m][n][j] * G + c[m][n] * R[m][n][j] for j in range(2)],\n",
    "            *[r[m][n][0] * Hp(R[m][n][0]) + c[m][n] * I[m]] \n",
    "        )\n",
    "        \n",
    "    # Correct r[pi] using r_pi_j = alpha_j - c_pi * x_pi_j mod l\n",
    "    r[m][pi] = [(alpha[j] - c[m][pi] * x[j]) % l for j in range(2)]\n",
    "    \n",
    "    \n",
    "    # For our sanity, check a few identities\n",
    "    for j in range(2):\n",
    "        assert x[j] * G == R[m][pi][j], f\"{j}: {x[j] * G} != {R[m][pi][j]}\"\n",
    "        assert (alpha[j] - c[m][pi]*x[j]) % l * G == alpha[j] * G - (c[m][pi] * x[j]) * G\n",
    "        assert (alpha[j] - c[m][pi]*x[j]) % l * G + c[m][pi] * R[m][pi][j] == alpha[j] * G\n",
    "        assert r[m][pi][j] * G + c[m][pi]*R[m][pi][j] == (alpha[j] - c[m][pi]*x[j]) % l * G + c[m][pi] * R[m][pi][j]\n",
    "        assert r[m][pi][j] * Hp(R[m][pi][j]) + c[m][pi] * I[m] == (alpha[j] - c[m][pi]*x[j]) % l * Hp(R[m][pi][j]) + c[m][pi] * I[m]\n",
    "        if j == 0:\n",
    "            assert x[j] * Hp(R[m][pi][j]) == I[m]\n",
    "            assert (-c[m][pi] % l) * x[j] * Hp(R[m][pi][j]) == (-c[m][pi] % l) * I[m]\n",
    "            assert (alpha[j] - c[m][pi] * x[j]) % l * Hp(R[m][pi][j]) == alpha[j] * Hp(R[m][pi][j]) - c[m][pi] * I[m]\n",
    "            assert alpha[j] * Hp(R[m][pi][j]) - c[m][pi] * I[m] == alpha[j] * Hp(R[m][pi][j]) - c[m][pi] * x[j] * Hp(R[m][pi][j])\n",
    "        assert r[m][pi][j] * Hp(R[m][pi][j]) + c[m][pi] * I[m] == (alpha[j] - c[m][pi] * x[j]) % l * Hp(R[m][pi][j]) + c[m][pi] * I[m]\n",
    "\n",
    "sig = ([c[m][0] for m in range(M)], r)"
   ]
  },
  {
   "cell_type": "code",
   "execution_count": 24,
   "id": "aaa21498",
   "metadata": {},
   "outputs": [],
   "source": [
    "tx = {\n",
    "    \"input\": {\n",
    "        \"ring_members\": P,\n",
    "        \"mlsag_sigs\": sig,\n",
    "        \"key_images\": I,\n",
    "        \"pseudo_commitments\": pseudo_C,\n",
    "    },\n",
    "    \"output\": {\n",
    "        \"owners\": out_P,\n",
    "        \"commitments\": out_C,\n",
    "        \"range_proofs\": None, # TODO\n",
    "    }\n",
    "}"
   ]
  },
  {
   "cell_type": "code",
   "execution_count": 26,
   "id": "c6cc2ef6",
   "metadata": {},
   "outputs": [
    {
     "name": "stdout",
     "output_type": "stream",
     "text": [
      "all checks out\n"
     ]
    }
   ],
   "source": [
    "# Verification\n",
    "\n",
    "# Verify Key Images are in G\n",
    "for m in range(M):\n",
    "    assert l * I[m] == 0 * G\n",
    "\n",
    "# Verify MLSAGs\n",
    "for m in range(M):\n",
    "    cprime = [None] * N\n",
    "    cprime[0] = c[m][0]\n",
    "\n",
    "    for n in range(N):\n",
    "        cprime[(n + 1) % N] = Hs(\n",
    "            msg,\n",
    "            *[r[m][n][j] * G + cprime[n] * R[m][n][j] for j in range(2)],\n",
    "            *[r[m][n][0] * Hp(R[m][n][0]) + cprime[n] * I[m]]\n",
    "        )\n",
    "\n",
    "    assert c[m][0] == cprime[0]\n",
    "    \n",
    "# Verify pseudo commitments sum to output commitments\n",
    "assert sum(tx[\"input\"][\"pseudo_commitments\"]) == sum(tx[\"output\"][\"commitments\"])\n",
    "\n",
    "print(\"all checks out\")"
   ]
  },
  {
   "cell_type": "code",
   "execution_count": null,
   "id": "a3662275",
   "metadata": {},
   "outputs": [],
   "source": []
  }
 ],
 "metadata": {
  "kernelspec": {
   "display_name": "Python 3 (ipykernel)",
   "language": "python",
   "name": "python3"
  },
  "language_info": {
   "codemirror_mode": {
    "name": "ipython",
    "version": 3
   },
   "file_extension": ".py",
   "mimetype": "text/x-python",
   "name": "python",
   "nbconvert_exporter": "python",
   "pygments_lexer": "ipython3",
   "version": "3.9.6"
  }
 },
 "nbformat": 4,
 "nbformat_minor": 5
}
