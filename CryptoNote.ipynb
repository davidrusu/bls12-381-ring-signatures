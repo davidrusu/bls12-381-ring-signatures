{
 "cells": [
  {
   "cell_type": "code",
   "execution_count": 1,
   "id": "0cfbe967",
   "metadata": {},
   "outputs": [],
   "source": [
    "from bls_py import (aggregation_info\n",
    "    ,bls\n",
    "    ,bls12381\n",
    "    ,ec\n",
    "    ,fields\n",
    "    ,fields_t\n",
    "    ,fields_t_c\n",
    "   , keys\n",
    "   , pairing\n",
    "   , signature\n",
    "    ,tdata\n",
    "    ,tests\n",
    "    ,threshold\n",
    "    ,util)\n",
    "\n",
    "from random import randint"
   ]
  },
  {
   "cell_type": "markdown",
   "id": "562a6484",
   "metadata": {},
   "source": [
    "We will work in the G1 (Fq) group since public keys are in the G1 group."
   ]
  },
  {
   "cell_type": "code",
   "execution_count": 2,
   "id": "c780be27",
   "metadata": {},
   "outputs": [],
   "source": [
    "G = ec.generator_Fq()\n",
    "Q = ec.default_ec.q"
   ]
  },
  {
   "cell_type": "code",
   "execution_count": 3,
   "id": "801f585d",
   "metadata": {},
   "outputs": [],
   "source": [
    "def Hp(point: bls.AffinePoint) -> bls.AffinePoint:\n",
    "    return ec.hash_to_point_Fq(point.serialize())\n",
    "\n",
    "def Hs(*xs):\n",
    "    h = b''\n",
    "    for x in xs:\n",
    "        if type(x) == str:\n",
    "            b = bytes(x, encoding=\"utf-8\")\n",
    "        elif type(x) == bls.AffinePoint:\n",
    "            b = x.serialize()\n",
    "        else:\n",
    "            b = bytes(x)\n",
    "        h = ec.hash256(h + b)\n",
    "    return int.from_bytes(h, \"big\")"
   ]
  },
  {
   "cell_type": "code",
   "execution_count": 4,
   "id": "7e1f6166",
   "metadata": {},
   "outputs": [],
   "source": [
    "N = 3\n",
    "m = \"important message\"\n",
    "\n",
    "x0 = bls.PrivateKey.from_seed(\"0\")\n",
    "x1 = bls.PrivateKey.from_seed(\"1\")\n",
    "x2 = bls.PrivateKey.from_seed(\"2\")\n",
    "P0 = x0.get_public_key()\n",
    "P1 = x1.get_public_key()\n",
    "P2 = x2.get_public_key()\n",
    "\n",
    "P = [P0.value.to_affine(),\n",
    "     P1.value.to_affine(),\n",
    "     P2.value.to_affine()]\n",
    "\n",
    "x = x0\n",
    "s = 0"
   ]
  },
  {
   "cell_type": "code",
   "execution_count": 5,
   "id": "8ac15472",
   "metadata": {},
   "outputs": [],
   "source": [
    "# Key Image\n",
    "I = x.value * Hp(P[s])"
   ]
  },
  {
   "cell_type": "code",
   "execution_count": 6,
   "id": "94b97442",
   "metadata": {},
   "outputs": [],
   "source": [
    "# Prepare to produce ring sig.\n",
    "\n",
    "q = [randint(0, Q) for _ in range(N)]\n",
    "w = [randint(0, Q) for _ in range(N)]"
   ]
  },
  {
   "cell_type": "code",
   "execution_count": 7,
   "id": "c776f3d7",
   "metadata": {},
   "outputs": [],
   "source": [
    "L = [\n",
    "    q[i] * G if i == s else\n",
    "    q[i] * G + w[i] * P[i]\n",
    "    for i in range(N)\n",
    "]\n",
    "R = [\n",
    "    q[i] * Hp(P[i]) if i == s else\n",
    "    q[i] * Hp(P[i]) + w[i] * I\n",
    "    for i in range(N)\n",
    "]"
   ]
  },
  {
   "cell_type": "code",
   "execution_count": 8,
   "id": "5d5e1339",
   "metadata": {},
   "outputs": [],
   "source": [
    "C = Hs(m, *L, *R)"
   ]
  },
  {
   "cell_type": "code",
   "execution_count": 9,
   "id": "f7284ffb",
   "metadata": {},
   "outputs": [],
   "source": [
    "c = [0 if i == s else w[i] for i in range(N)]\n",
    "c[s] = (C - sum(c)) % Q\n",
    "\n",
    "r = [\n",
    "    (q[s] - c[s] * x.value) % Q if i == s else\n",
    "    q[i]\n",
    "    for i in range(N)\n",
    "]"
   ]
  },
  {
   "cell_type": "code",
   "execution_count": 31,
   "id": "8f810d00",
   "metadata": {},
   "outputs": [
    {
     "data": {
      "text/plain": [
       "32842339959732529955833948762244812645724875992095776656162352646762978716171"
      ]
     },
     "execution_count": 31,
     "metadata": {},
     "output_type": "execute_result"
    }
   ],
   "source": [
    "sum(c) % Q"
   ]
  },
  {
   "cell_type": "code",
   "execution_count": 32,
   "id": "ebce6be8",
   "metadata": {},
   "outputs": [
    {
     "data": {
      "text/plain": [
       "32842339959732529955833948762244812645724875992095776656162352646762978716171"
      ]
     },
     "execution_count": 32,
     "metadata": {},
     "output_type": "execute_result"
    }
   ],
   "source": [
    "C"
   ]
  },
  {
   "cell_type": "code",
   "execution_count": 11,
   "id": "f5da237e",
   "metadata": {},
   "outputs": [],
   "source": [
    "sig = (I, c, r)"
   ]
  },
  {
   "cell_type": "code",
   "execution_count": 26,
   "id": "bc6e77e0",
   "metadata": {},
   "outputs": [],
   "source": [
    "# Now to verify\n",
    "\n",
    "def verify(I, c, r, P, m):\n",
    "    print(\"I\", I)\n",
    "    print(\"c\", c)\n",
    "    print(\"r\", r)\n",
    "    print(\"P\", P)\n",
    "    print(\"m\", m)\n",
    "    Lprime = [r[i] * G + c[i] * P[i] for i in range(len(P))]\n",
    "    \n",
    "    print([l == lp for (l, lp) in zip(L, Lprime)])\n",
    "    \n",
    "    Rprime = [r[i] * Hp(P[i]) + c[i] * I for i in range(len(P))]\n",
    "    \n",
    "    print([r == rp for (r, rp) in zip(R, Rprime)])\n",
    "    sum_c = sum(c) % Q\n",
    "    h_c = Hs(m, *Lprime, *Rprime)\n",
    "    print(\"sum_c\", sum_c)\n",
    "    print(\"h_c\", h_c)\n",
    "    return sum_c == h_c"
   ]
  },
  {
   "cell_type": "code",
   "execution_count": 27,
   "id": "01c825bf",
   "metadata": {},
   "outputs": [
    {
     "name": "stdout",
     "output_type": "stream",
     "text": [
      "I AffinePoint(x=Fq(Q, 0xe4421..61a5a), y=Fq(Q, 0xd7ce2..44879), i=False)\n",
      "\n",
      "c [1125997488476211858511153327728609958923316969538730796847623877070597838312028946851960216351034579922724709138618, 3088767996834369780648217248249742780841416208334504498983868598790411062548009789258983751799733832628253217700437, 3790053625132753147676209075493455573381874801964513004788457745149299212767361868766527066763425268171573596996690]\n",
      "r [650686533407452148660561722754953372596131871766904211953056185071040969372571303701490367261854317731816863669703, 1025842924542166914275044691351095004775421990709006646643524831001908489386427913164968999420180774548982465844095, 1364942380301356537848717536294742811640268201611109232596727768186090974179958900948024948412545095054374563498259]\n",
      "P [AffinePoint(x=Fq(Q, 0x7e9788a446bd70fecaba764b2791a66573aa53197463ececba089625b7f506fe95e223bc2df2a4bf1bbeb859b29dd08), y=Fq(Q, 0x1715f33b8971c727abb7f7e784672e8e057c8870ebe3b2eb0bf80498d956b6ad19d94599efbb169b78a717463f57ad27), i=False)\n",
      ", AffinePoint(x=Fq(Q, 0x48692f502370ae4cf802426713c947ec72f8da820182cea486afd19e40f4b965e9adb3a5b5d1fb2f4d06ed315b0284e), y=Fq(Q, 0x1a5cc3d5f890feb90e54d677fbe7d398ef72e58884594a47dee7a5688416e893be8cafe96e32f1e3588c1227db66c70), i=False)\n",
      ", AffinePoint(x=Fq(Q, 0x6d4bc01d1bc31ad3878d0e2d135bed992080181f9c118ad1cef08e1aad59e8439277bc6312a014c06c75fe42df3cebd), y=Fq(Q, 0x7f950fc3dd578c2b216e433505167cf51621bf965831178839468c23ef430ef8a84b12d6feb6a64b5db394e94d8095f), i=False)\n",
      "]\n",
      "m important message\n",
      "[False, True, True]\n",
      "[False, True, True]\n",
      "sum_c 32842339959732529955833948762244812645724875992095776656162352646762978716171\n",
      "h_c 84593105261035933517215100010828053026554451839791988382415951094393441802199\n"
     ]
    },
    {
     "data": {
      "text/plain": [
       "False"
      ]
     },
     "execution_count": 27,
     "metadata": {},
     "output_type": "execute_result"
    }
   ],
   "source": [
    "verify(*sig, P, m)"
   ]
  },
  {
   "cell_type": "code",
   "execution_count": 14,
   "id": "b10003c9",
   "metadata": {},
   "outputs": [
    {
     "ename": "AttributeError",
     "evalue": "'AffinePoint' object has no attribute 'to_affine'",
     "output_type": "error",
     "traceback": [
      "\u001b[0;31m---------------------------------------------------------------------------\u001b[0m",
      "\u001b[0;31mAttributeError\u001b[0m                            Traceback (most recent call last)",
      "\u001b[0;32m/run/user/1000/ipykernel_9779/2716093358.py\u001b[0m in \u001b[0;36m<module>\u001b[0;34m\u001b[0m\n\u001b[0;32m----> 1\u001b[0;31m \u001b[0mP\u001b[0m\u001b[0;34m[\u001b[0m\u001b[0;36m0\u001b[0m\u001b[0;34m]\u001b[0m\u001b[0;34m.\u001b[0m\u001b[0mto_affine\u001b[0m\u001b[0;34m(\u001b[0m\u001b[0;34m)\u001b[0m\u001b[0;34m\u001b[0m\u001b[0;34m\u001b[0m\u001b[0m\n\u001b[0m",
      "\u001b[0;31mAttributeError\u001b[0m: 'AffinePoint' object has no attribute 'to_affine'"
     ]
    }
   ],
   "source": [
    "P[0].to_affine()"
   ]
  },
  {
   "cell_type": "code",
   "execution_count": null,
   "id": "b52fa7a2",
   "metadata": {},
   "outputs": [],
   "source": []
  },
  {
   "cell_type": "code",
   "execution_count": null,
   "id": "61372e27",
   "metadata": {},
   "outputs": [],
   "source": []
  }
 ],
 "metadata": {
  "kernelspec": {
   "display_name": "Python 3 (ipykernel)",
   "language": "python",
   "name": "python3"
  },
  "language_info": {
   "codemirror_mode": {
    "name": "ipython",
    "version": 3
   },
   "file_extension": ".py",
   "mimetype": "text/x-python",
   "name": "python",
   "nbconvert_exporter": "python",
   "pygments_lexer": "ipython3",
   "version": "3.8.11"
  }
 },
 "nbformat": 4,
 "nbformat_minor": 5
}
