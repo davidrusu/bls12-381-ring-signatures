{
 "cells": [
  {
   "cell_type": "code",
   "execution_count": 1,
   "id": "0cfbe967",
   "metadata": {},
   "outputs": [],
   "source": [
    "from bls_py import bls, ec\n",
    "from random import randint, seed"
   ]
  },
  {
   "cell_type": "markdown",
   "id": "562a6484",
   "metadata": {},
   "source": [
    "We will work in the G1 (Fq) group since public keys are in the G1 group."
   ]
  },
  {
   "cell_type": "code",
   "execution_count": 2,
   "id": "c780be27",
   "metadata": {},
   "outputs": [],
   "source": [
    "G = ec.generator_Fq() # G1\n",
    "l = ec.default_ec.n   # the G1 group order\n",
    "H = randint(0, l) * G # used in ped. com.: xG + aH, in practice we should have a more secure way of generating H"
   ]
  },
  {
   "cell_type": "code",
   "execution_count": 3,
   "id": "3980d4c4",
   "metadata": {},
   "outputs": [
    {
     "name": "stdout",
     "output_type": "stream",
     "text": [
      "Help on function serialize in module bls_py.ec:\n",
      "\n",
      "serialize(self)\n",
      "\n"
     ]
    }
   ],
   "source": [
    "help(bls.AffinePoint.serialize)"
   ]
  },
  {
   "cell_type": "code",
   "execution_count": 4,
   "id": "801f585d",
   "metadata": {},
   "outputs": [],
   "source": [
    "def Hp(point: bls.AffinePoint) -> bls.AffinePoint:\n",
    "    \"\"\"Hash a point to point\"\"\"\n",
    "    return ec.hash_to_point_Fq(point.x.serialize() + point.y.serialize())\n",
    "\n",
    "def Hs(*xs) -> int:\n",
    "    \"\"\"Hash to field, result will be an integer in 0..l\"\"\"\n",
    "    h = b''\n",
    "    for x in xs:\n",
    "        if type(x) == str:\n",
    "            b = bytes(x, encoding=\"utf-8\")\n",
    "        elif type(x) == bls.AffinePoint:\n",
    "            b = x.serialize()\n",
    "        elif type(x) == int:\n",
    "            b = x.to_bytes(256, \"big\")\n",
    "        elif type(x) in [list, tuple]:\n",
    "            b = b''\n",
    "            for xi in x:\n",
    "                b += Hs(xi).to_bytes(256, \"big\")\n",
    "        else:\n",
    "            raise Exception(\"BAD VALUE\", x)\n",
    "\n",
    "        h = ec.hash256(h + b)\n",
    "\n",
    "    return int.from_bytes(h, \"big\") % l\n",
    "    \n",
    "def rand_Z():\n",
    "    return randint(1, l)\n",
    "\n",
    "def rand_P():\n",
    "    return rand_Z() * G\n",
    "    \n",
    "def commit(value, mask):\n",
    "    \"\"\"Pederson Commitment to `value` masked by `mask`\"\"\"\n",
    "    return mask * G + value * H"
   ]
  },
  {
   "cell_type": "code",
   "execution_count": 21,
   "id": "a1ffa433",
   "metadata": {},
   "outputs": [
    {
     "name": "stdout",
     "output_type": "stream",
     "text": [
      "pi = 10\n"
     ]
    }
   ],
   "source": [
    "seed(0)\n",
    "\n",
    "N = 12\n",
    "M = 24\n",
    "\n",
    "msg = \"hello\"\n",
    "\n",
    "\n",
    "# Real Signer\n",
    "x_pi = [rand_Z() for _ in range(M)]\n",
    "P_pi = [x * G for x in x_pi]\n",
    "\n",
    "# Decoy Keys\n",
    "P = [[rand_Z() * G for _ in range(M)] for _ in range(N - 1)]\n",
    "\n",
    "pi = randint(0, N-1)\n",
    "print(\"pi =\", pi)\n",
    "\n",
    "P.insert(pi, P_pi)\n",
    "\n",
    "# Key Images\n",
    "\n",
    "I = [x_pi[m] * Hp(P[pi][m]) for m in range(M)]\n",
    "\n",
    "\n",
    "# Blinding Values\n",
    "\n",
    "alpha = [rand_Z() for _ in range(M)]\n",
    "r = [[rand_Z() if i != pi else None for _ in range(M)] for i in range(N)]\n",
    "\n",
    "# Compute our c's\n",
    "\n",
    "c = [None for _ in range(N)]\n",
    "\n",
    "c[(pi + 1) % N] = Hs(\n",
    "    msg,\n",
    "    *[alpha[m] * G for m in range(M)],\n",
    "    *[alpha[m] * Hp(P[pi][m]) for m in range(M)]\n",
    ")\n",
    "\n",
    "for offset in range(1, N):\n",
    "    n = (pi + offset) % N\n",
    "    c[(n + 1) % N] = Hs(\n",
    "        msg,\n",
    "        *[r[n][m] * G + c[n] * P[n][m] for m in range(M)],\n",
    "        *[r[n][m] * Hp(P[n][m]) + c[n] * I[m] for m in range(M)]\n",
    "    )\n",
    "    \n",
    "# Correct r[pi] using r_pi_j = alpha_j - c_pi * x_pi_j mod l\n",
    "\n",
    "r[pi] = [(alpha[m] - c[pi] * x_pi[m]) % l for m in range(M)]\n",
    "\n",
    "# For our sanity, check a few identities\n",
    "for m in range(M):\n",
    "    assert x_pi[m] * G == P[pi][m]\n",
    "    assert (alpha[m] - c[pi]*x_pi[m]) % l * G == alpha[m] * G - (c[pi] * x_pi[m]) * G\n",
    "    assert (alpha[m] - c[pi]*x_pi[m]) % l * G + c[pi] * P[pi][m] == alpha[m] * G\n",
    "    assert r[pi][m] * G + c[pi]*P[pi][m] == (alpha[m] - c[pi]*x_pi[m]) % l * G + c[pi] * P[pi][m]\n",
    "    assert r[pi][m] * Hp(P[pi][m]) + c[pi] * I[m] == (alpha[m] - c[pi]*x_pi[m]) % l * Hp(P[pi][m]) + c[pi] * I[m]\n",
    "    assert x_pi[m] * Hp(P[pi][m]) == I[m]\n",
    "    assert -c[pi] * x_pi[m] * Hp(P[pi][m]) == -c[pi] * I[m]\n",
    "    assert (alpha[m] - c[pi] * x_pi[m]) % l * Hp(P[pi][m]) == alpha[m] * Hp(P[pi][m]) - c[pi] * I[m]\n",
    "    assert alpha[m] * Hp(P[pi][m]) - c[pi] * I[m] == alpha[m] * Hp(P[pi][m]) - c[pi] * x_pi[m] * Hp(P[pi][m])\n",
    "    assert r[pi][m] * Hp(P[pi][m]) + c[pi] * I[m] == (alpha[m] - c[pi] * x_pi[m]) % l * Hp(P[pi][m]) + c[pi] * I[m]\n",
    "\n",
    "sig = (c[0], r, I)"
   ]
  },
  {
   "cell_type": "code",
   "execution_count": 23,
   "id": "92a4d345",
   "metadata": {},
   "outputs": [
    {
     "name": "stdout",
     "output_type": "stream",
     "text": [
      "all checks out\n"
     ]
    }
   ],
   "source": [
    "# Verification\n",
    "\n",
    "for m in range(M):\n",
    "    assert l * I[m] == 0 * G\n",
    "    \n",
    "cprime = [None for _ in range(N)]\n",
    "cprime[0] = c[0]\n",
    "\n",
    "for n in range(N):\n",
    "    cprime[(n + 1) % N] = Hs(\n",
    "        msg,\n",
    "        *[r[n][m] * G + cprime[n] * P[n][m] for m in range(M)],\n",
    "        *[r[n][m] * Hp(P[n][m]) + cprime[n] * I[m] for m in range(M)]\n",
    "    )\n",
    "    \n",
    "assert c[0] == cprime[0]\n",
    "\n",
    "print(\"all checks out\")"
   ]
  }
 ],
 "metadata": {
  "kernelspec": {
   "display_name": "Python 3 (ipykernel)",
   "language": "python",
   "name": "python3"
  },
  "language_info": {
   "codemirror_mode": {
    "name": "ipython",
    "version": 3
   },
   "file_extension": ".py",
   "mimetype": "text/x-python",
   "name": "python",
   "nbconvert_exporter": "python",
   "pygments_lexer": "ipython3",
   "version": "3.9.6"
  }
 },
 "nbformat": 4,
 "nbformat_minor": 5
}
